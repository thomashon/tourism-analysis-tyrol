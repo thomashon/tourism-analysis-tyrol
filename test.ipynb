{
 "cells": [
  {
   "cell_type": "code",
   "execution_count": 1,
   "metadata": {
    "ExecuteTime": {
     "end_time": "2020-02-02T21:52:23.157370Z",
     "start_time": "2020-02-02T21:52:21.463626Z"
    }
   },
   "outputs": [],
   "source": [
    "import pandas as pd"
   ]
  },
  {
   "cell_type": "code",
   "execution_count": 2,
   "metadata": {
    "ExecuteTime": {
     "end_time": "2020-02-02T21:52:23.460352Z",
     "start_time": "2020-02-02T21:52:23.167336Z"
    }
   },
   "outputs": [
    {
     "data": {
      "text/html": [
       "<div>\n",
       "<style scoped>\n",
       "    .dataframe tbody tr th:only-of-type {\n",
       "        vertical-align: middle;\n",
       "    }\n",
       "\n",
       "    .dataframe tbody tr th {\n",
       "        vertical-align: top;\n",
       "    }\n",
       "\n",
       "    .dataframe thead th {\n",
       "        text-align: right;\n",
       "    }\n",
       "</style>\n",
       "<table border=\"1\" class=\"dataframe\">\n",
       "  <thead>\n",
       "    <tr style=\"text-align: right;\">\n",
       "      <th></th>\n",
       "      <th>year</th>\n",
       "      <th>city</th>\n",
       "      <th>month</th>\n",
       "      <th>overnight_stays</th>\n",
       "      <th>bezirk</th>\n",
       "      <th>nr</th>\n",
       "    </tr>\n",
       "  </thead>\n",
       "  <tbody>\n",
       "    <tr>\n",
       "      <th>0</th>\n",
       "      <td>2000</td>\n",
       "      <td>Innsbruck</td>\n",
       "      <td>1</td>\n",
       "      <td>75874</td>\n",
       "      <td>I</td>\n",
       "      <td>101</td>\n",
       "    </tr>\n",
       "    <tr>\n",
       "      <th>1</th>\n",
       "      <td>2000</td>\n",
       "      <td>Innsbruck</td>\n",
       "      <td>2</td>\n",
       "      <td>86463</td>\n",
       "      <td>I</td>\n",
       "      <td>101</td>\n",
       "    </tr>\n",
       "    <tr>\n",
       "      <th>2</th>\n",
       "      <td>2000</td>\n",
       "      <td>Innsbruck</td>\n",
       "      <td>3</td>\n",
       "      <td>85461</td>\n",
       "      <td>I</td>\n",
       "      <td>101</td>\n",
       "    </tr>\n",
       "    <tr>\n",
       "      <th>3</th>\n",
       "      <td>2000</td>\n",
       "      <td>Innsbruck</td>\n",
       "      <td>4</td>\n",
       "      <td>78124</td>\n",
       "      <td>I</td>\n",
       "      <td>101</td>\n",
       "    </tr>\n",
       "    <tr>\n",
       "      <th>4</th>\n",
       "      <td>2000</td>\n",
       "      <td>Innsbruck</td>\n",
       "      <td>5</td>\n",
       "      <td>99989</td>\n",
       "      <td>I</td>\n",
       "      <td>101</td>\n",
       "    </tr>\n",
       "  </tbody>\n",
       "</table>\n",
       "</div>"
      ],
      "text/plain": [
       "   year       city  month  overnight_stays bezirk   nr\n",
       "0  2000  Innsbruck      1            75874      I  101\n",
       "1  2000  Innsbruck      2            86463      I  101\n",
       "2  2000  Innsbruck      3            85461      I  101\n",
       "3  2000  Innsbruck      4            78124      I  101\n",
       "4  2000  Innsbruck      5            99989      I  101"
      ]
     },
     "execution_count": 2,
     "metadata": {},
     "output_type": "execute_result"
    }
   ],
   "source": [
    "df = pd.read_csv('data/total.csv', index_col=0)\n",
    "df.head()"
   ]
  },
  {
   "cell_type": "code",
   "execution_count": 3,
   "metadata": {
    "ExecuteTime": {
     "end_time": "2020-02-02T21:52:23.697344Z",
     "start_time": "2020-02-02T21:52:23.480349Z"
    }
   },
   "outputs": [
    {
     "data": {
      "text/html": [
       "<div>\n",
       "<style scoped>\n",
       "    .dataframe tbody tr th:only-of-type {\n",
       "        vertical-align: middle;\n",
       "    }\n",
       "\n",
       "    .dataframe tbody tr th {\n",
       "        vertical-align: top;\n",
       "    }\n",
       "\n",
       "    .dataframe thead th {\n",
       "        text-align: right;\n",
       "    }\n",
       "</style>\n",
       "<table border=\"1\" class=\"dataframe\">\n",
       "  <thead>\n",
       "    <tr style=\"text-align: right;\">\n",
       "      <th></th>\n",
       "      <th>year</th>\n",
       "      <th>city</th>\n",
       "      <th>month</th>\n",
       "      <th>overnight_stays</th>\n",
       "      <th>bezirk</th>\n",
       "      <th>nr</th>\n",
       "      <th>date</th>\n",
       "    </tr>\n",
       "  </thead>\n",
       "  <tbody>\n",
       "    <tr>\n",
       "      <th>0</th>\n",
       "      <td>2000</td>\n",
       "      <td>Innsbruck</td>\n",
       "      <td>1</td>\n",
       "      <td>75874</td>\n",
       "      <td>I</td>\n",
       "      <td>101</td>\n",
       "      <td>2000-1</td>\n",
       "    </tr>\n",
       "    <tr>\n",
       "      <th>1</th>\n",
       "      <td>2000</td>\n",
       "      <td>Innsbruck</td>\n",
       "      <td>2</td>\n",
       "      <td>86463</td>\n",
       "      <td>I</td>\n",
       "      <td>101</td>\n",
       "      <td>2000-2</td>\n",
       "    </tr>\n",
       "    <tr>\n",
       "      <th>2</th>\n",
       "      <td>2000</td>\n",
       "      <td>Innsbruck</td>\n",
       "      <td>3</td>\n",
       "      <td>85461</td>\n",
       "      <td>I</td>\n",
       "      <td>101</td>\n",
       "      <td>2000-3</td>\n",
       "    </tr>\n",
       "    <tr>\n",
       "      <th>3</th>\n",
       "      <td>2000</td>\n",
       "      <td>Innsbruck</td>\n",
       "      <td>4</td>\n",
       "      <td>78124</td>\n",
       "      <td>I</td>\n",
       "      <td>101</td>\n",
       "      <td>2000-4</td>\n",
       "    </tr>\n",
       "    <tr>\n",
       "      <th>4</th>\n",
       "      <td>2000</td>\n",
       "      <td>Innsbruck</td>\n",
       "      <td>5</td>\n",
       "      <td>99989</td>\n",
       "      <td>I</td>\n",
       "      <td>101</td>\n",
       "      <td>2000-5</td>\n",
       "    </tr>\n",
       "  </tbody>\n",
       "</table>\n",
       "</div>"
      ],
      "text/plain": [
       "   year       city  month  overnight_stays bezirk   nr    date\n",
       "0  2000  Innsbruck      1            75874      I  101  2000-1\n",
       "1  2000  Innsbruck      2            86463      I  101  2000-2\n",
       "2  2000  Innsbruck      3            85461      I  101  2000-3\n",
       "3  2000  Innsbruck      4            78124      I  101  2000-4\n",
       "4  2000  Innsbruck      5            99989      I  101  2000-5"
      ]
     },
     "execution_count": 3,
     "metadata": {},
     "output_type": "execute_result"
    }
   ],
   "source": [
    "df['date'] = df.year.astype('str') + '-' + df.month.astype('str')\n",
    "df.head()"
   ]
  },
  {
   "cell_type": "code",
   "execution_count": 4,
   "metadata": {
    "ExecuteTime": {
     "end_time": "2020-02-02T21:52:23.771349Z",
     "start_time": "2020-02-02T21:52:23.709349Z"
    }
   },
   "outputs": [
    {
     "data": {
      "text/html": [
       "<div>\n",
       "<style scoped>\n",
       "    .dataframe tbody tr th:only-of-type {\n",
       "        vertical-align: middle;\n",
       "    }\n",
       "\n",
       "    .dataframe tbody tr th {\n",
       "        vertical-align: top;\n",
       "    }\n",
       "\n",
       "    .dataframe thead th {\n",
       "        text-align: right;\n",
       "    }\n",
       "</style>\n",
       "<table border=\"1\" class=\"dataframe\">\n",
       "  <thead>\n",
       "    <tr style=\"text-align: right;\">\n",
       "      <th></th>\n",
       "      <th>year</th>\n",
       "      <th>city</th>\n",
       "      <th>month</th>\n",
       "      <th>overnight_stays</th>\n",
       "      <th>bezirk</th>\n",
       "      <th>nr</th>\n",
       "      <th>date</th>\n",
       "    </tr>\n",
       "  </thead>\n",
       "  <tbody>\n",
       "    <tr>\n",
       "      <th>0</th>\n",
       "      <td>2000</td>\n",
       "      <td>Innsbruck</td>\n",
       "      <td>1</td>\n",
       "      <td>75874</td>\n",
       "      <td>I</td>\n",
       "      <td>101</td>\n",
       "      <td>2000-01-01</td>\n",
       "    </tr>\n",
       "    <tr>\n",
       "      <th>1</th>\n",
       "      <td>2000</td>\n",
       "      <td>Innsbruck</td>\n",
       "      <td>2</td>\n",
       "      <td>86463</td>\n",
       "      <td>I</td>\n",
       "      <td>101</td>\n",
       "      <td>2000-02-01</td>\n",
       "    </tr>\n",
       "    <tr>\n",
       "      <th>2</th>\n",
       "      <td>2000</td>\n",
       "      <td>Innsbruck</td>\n",
       "      <td>3</td>\n",
       "      <td>85461</td>\n",
       "      <td>I</td>\n",
       "      <td>101</td>\n",
       "      <td>2000-03-01</td>\n",
       "    </tr>\n",
       "    <tr>\n",
       "      <th>3</th>\n",
       "      <td>2000</td>\n",
       "      <td>Innsbruck</td>\n",
       "      <td>4</td>\n",
       "      <td>78124</td>\n",
       "      <td>I</td>\n",
       "      <td>101</td>\n",
       "      <td>2000-04-01</td>\n",
       "    </tr>\n",
       "    <tr>\n",
       "      <th>4</th>\n",
       "      <td>2000</td>\n",
       "      <td>Innsbruck</td>\n",
       "      <td>5</td>\n",
       "      <td>99989</td>\n",
       "      <td>I</td>\n",
       "      <td>101</td>\n",
       "      <td>2000-05-01</td>\n",
       "    </tr>\n",
       "  </tbody>\n",
       "</table>\n",
       "</div>"
      ],
      "text/plain": [
       "   year       city  month  overnight_stays bezirk   nr       date\n",
       "0  2000  Innsbruck      1            75874      I  101 2000-01-01\n",
       "1  2000  Innsbruck      2            86463      I  101 2000-02-01\n",
       "2  2000  Innsbruck      3            85461      I  101 2000-03-01\n",
       "3  2000  Innsbruck      4            78124      I  101 2000-04-01\n",
       "4  2000  Innsbruck      5            99989      I  101 2000-05-01"
      ]
     },
     "execution_count": 4,
     "metadata": {},
     "output_type": "execute_result"
    }
   ],
   "source": [
    "df.date = pd.to_datetime(df.date)\n",
    "df.head()"
   ]
  },
  {
   "cell_type": "code",
   "execution_count": 5,
   "metadata": {
    "ExecuteTime": {
     "end_time": "2020-02-02T21:52:23.817351Z",
     "start_time": "2020-02-02T21:52:23.778344Z"
    }
   },
   "outputs": [
    {
     "data": {
      "text/html": [
       "<div>\n",
       "<style scoped>\n",
       "    .dataframe tbody tr th:only-of-type {\n",
       "        vertical-align: middle;\n",
       "    }\n",
       "\n",
       "    .dataframe tbody tr th {\n",
       "        vertical-align: top;\n",
       "    }\n",
       "\n",
       "    .dataframe thead th {\n",
       "        text-align: right;\n",
       "    }\n",
       "</style>\n",
       "<table border=\"1\" class=\"dataframe\">\n",
       "  <thead>\n",
       "    <tr style=\"text-align: right;\">\n",
       "      <th></th>\n",
       "      <th>city</th>\n",
       "      <th>overnight_stays</th>\n",
       "      <th>bezirk</th>\n",
       "      <th>date</th>\n",
       "    </tr>\n",
       "  </thead>\n",
       "  <tbody>\n",
       "    <tr>\n",
       "      <th>0</th>\n",
       "      <td>Innsbruck</td>\n",
       "      <td>75874</td>\n",
       "      <td>I</td>\n",
       "      <td>2000-01-01</td>\n",
       "    </tr>\n",
       "    <tr>\n",
       "      <th>1</th>\n",
       "      <td>Innsbruck</td>\n",
       "      <td>86463</td>\n",
       "      <td>I</td>\n",
       "      <td>2000-02-01</td>\n",
       "    </tr>\n",
       "    <tr>\n",
       "      <th>2</th>\n",
       "      <td>Innsbruck</td>\n",
       "      <td>85461</td>\n",
       "      <td>I</td>\n",
       "      <td>2000-03-01</td>\n",
       "    </tr>\n",
       "    <tr>\n",
       "      <th>3</th>\n",
       "      <td>Innsbruck</td>\n",
       "      <td>78124</td>\n",
       "      <td>I</td>\n",
       "      <td>2000-04-01</td>\n",
       "    </tr>\n",
       "    <tr>\n",
       "      <th>4</th>\n",
       "      <td>Innsbruck</td>\n",
       "      <td>99989</td>\n",
       "      <td>I</td>\n",
       "      <td>2000-05-01</td>\n",
       "    </tr>\n",
       "  </tbody>\n",
       "</table>\n",
       "</div>"
      ],
      "text/plain": [
       "        city  overnight_stays bezirk       date\n",
       "0  Innsbruck            75874      I 2000-01-01\n",
       "1  Innsbruck            86463      I 2000-02-01\n",
       "2  Innsbruck            85461      I 2000-03-01\n",
       "3  Innsbruck            78124      I 2000-04-01\n",
       "4  Innsbruck            99989      I 2000-05-01"
      ]
     },
     "execution_count": 5,
     "metadata": {},
     "output_type": "execute_result"
    }
   ],
   "source": [
    "df.drop(['year', 'month', 'nr'], axis=1, inplace=True)\n",
    "df.head()"
   ]
  },
  {
   "cell_type": "code",
   "execution_count": 6,
   "metadata": {
    "ExecuteTime": {
     "end_time": "2020-02-02T21:52:23.895348Z",
     "start_time": "2020-02-02T21:52:23.824346Z"
    }
   },
   "outputs": [
    {
     "name": "stdout",
     "output_type": "stream",
     "text": [
      "<class 'pandas.core.frame.DataFrame'>\n",
      "Int64Index: 63612 entries, 0 to 3347\n",
      "Data columns (total 4 columns):\n",
      "city               63612 non-null category\n",
      "overnight_stays    63612 non-null int64\n",
      "bezirk             63612 non-null category\n",
      "date               63612 non-null datetime64[ns]\n",
      "dtypes: category(2), datetime64[ns](1), int64(1)\n",
      "memory usage: 1.7 MB\n"
     ]
    }
   ],
   "source": [
    "df.city = df.city.astype('category')\n",
    "df.bezirk = df.bezirk.astype('category')\n",
    "df.info()"
   ]
  },
  {
   "cell_type": "code",
   "execution_count": 7,
   "metadata": {
    "ExecuteTime": {
     "end_time": "2020-02-02T21:52:23.949344Z",
     "start_time": "2020-02-02T21:52:23.902343Z"
    }
   },
   "outputs": [
    {
     "data": {
      "text/html": [
       "<div>\n",
       "<style scoped>\n",
       "    .dataframe tbody tr th:only-of-type {\n",
       "        vertical-align: middle;\n",
       "    }\n",
       "\n",
       "    .dataframe tbody tr th {\n",
       "        vertical-align: top;\n",
       "    }\n",
       "\n",
       "    .dataframe thead th {\n",
       "        text-align: right;\n",
       "    }\n",
       "</style>\n",
       "<table border=\"1\" class=\"dataframe\">\n",
       "  <thead>\n",
       "    <tr style=\"text-align: right;\">\n",
       "      <th></th>\n",
       "      <th>bezirk</th>\n",
       "      <th>city</th>\n",
       "      <th>date</th>\n",
       "      <th>overnight_stays</th>\n",
       "    </tr>\n",
       "  </thead>\n",
       "  <tbody>\n",
       "    <tr>\n",
       "      <th>0</th>\n",
       "      <td>I</td>\n",
       "      <td>Innsbruck</td>\n",
       "      <td>2000-01-01</td>\n",
       "      <td>75874</td>\n",
       "    </tr>\n",
       "    <tr>\n",
       "      <th>1</th>\n",
       "      <td>I</td>\n",
       "      <td>Innsbruck</td>\n",
       "      <td>2000-02-01</td>\n",
       "      <td>86463</td>\n",
       "    </tr>\n",
       "    <tr>\n",
       "      <th>2</th>\n",
       "      <td>I</td>\n",
       "      <td>Innsbruck</td>\n",
       "      <td>2000-03-01</td>\n",
       "      <td>85461</td>\n",
       "    </tr>\n",
       "    <tr>\n",
       "      <th>3</th>\n",
       "      <td>I</td>\n",
       "      <td>Innsbruck</td>\n",
       "      <td>2000-04-01</td>\n",
       "      <td>78124</td>\n",
       "    </tr>\n",
       "    <tr>\n",
       "      <th>4</th>\n",
       "      <td>I</td>\n",
       "      <td>Innsbruck</td>\n",
       "      <td>2000-05-01</td>\n",
       "      <td>99989</td>\n",
       "    </tr>\n",
       "  </tbody>\n",
       "</table>\n",
       "</div>"
      ],
      "text/plain": [
       "  bezirk       city       date  overnight_stays\n",
       "0      I  Innsbruck 2000-01-01            75874\n",
       "1      I  Innsbruck 2000-02-01            86463\n",
       "2      I  Innsbruck 2000-03-01            85461\n",
       "3      I  Innsbruck 2000-04-01            78124\n",
       "4      I  Innsbruck 2000-05-01            99989"
      ]
     },
     "execution_count": 7,
     "metadata": {},
     "output_type": "execute_result"
    }
   ],
   "source": [
    "df = df[['bezirk', 'city', 'date', 'overnight_stays']]\n",
    "df.head()"
   ]
  },
  {
   "cell_type": "code",
   "execution_count": 8,
   "metadata": {
    "ExecuteTime": {
     "end_time": "2020-02-02T21:52:23.981349Z",
     "start_time": "2020-02-02T21:52:23.960348Z"
    }
   },
   "outputs": [
    {
     "data": {
      "text/plain": [
       "228"
      ]
     },
     "execution_count": 8,
     "metadata": {},
     "output_type": "execute_result"
    }
   ],
   "source": [
    "df[df.city == 'Innsbruck'].shape[0]"
   ]
  },
  {
   "cell_type": "code",
   "execution_count": 9,
   "metadata": {
    "ExecuteTime": {
     "end_time": "2020-02-02T21:52:27.229088Z",
     "start_time": "2020-02-02T21:52:23.998354Z"
    }
   },
   "outputs": [],
   "source": [
    "cities = []\n",
    "\n",
    "for city in df.city.unique().to_list():\n",
    "    if df[df.city == city].shape[0] != 228:\n",
    "        cities.append(city)\n",
    "    \n",
    "cities.sort()"
   ]
  },
  {
   "cell_type": "code",
   "execution_count": 10,
   "metadata": {
    "ExecuteTime": {
     "end_time": "2020-02-02T21:52:28.095946Z",
     "start_time": "2020-02-02T21:52:27.366355Z"
    }
   },
   "outputs": [
    {
     "name": "stdout",
     "output_type": "stream",
     "text": [
      "Ausservillgraten 24\n",
      "Außervillgraten 204\n",
      "Buch bei Jenbach 168\n",
      "Buch in Tirol 60\n",
      "Elbigenalp 216\n",
      "Elbingenalp 12\n",
      "Going am Wilden Kaiser 24\n",
      "Going/Wilden Kaiser 204\n",
      "Hopfgarten im Brixenta 24\n",
      "Hopfgarten in Deferegg 24\n",
      "Hopfgarten/Brixental 204\n",
      "Hopfgarten/Defereggen 204\n",
      "Nussdorf-Debant 24\n",
      "Nußdorf-Debant 204\n",
      "Obernberg 12\n",
      "Obernberg am Brenner 216\n",
      "Prägraten 204\n",
      "Prägraten am Großvened 24\n",
      "Scheffau 12\n",
      "Scheffau am Wilden Kai 12\n",
      "Scheffau/Wild.Kaiser 204\n",
      "Schönberg im Stubaital 24\n",
      "Schönberg/Stubaital 204\n",
      "Silz 204\n",
      "Silz inkl. Kühtai 24\n",
      "St. Anton am Arlberg 24\n",
      "St. Jakob in Deferegge 24\n",
      "St. Jakob in Haus 24\n",
      "St. Johann im Walde 24\n",
      "St. Johann in Tirol 24\n",
      "St. Leonhard im Pitzta 24\n",
      "St. Sigmund im Sellrai 24\n",
      "St. Ulrich am Pillerse 24\n",
      "St. Veit in Defereggen 24\n",
      "St.Anton am Arlberg 204\n",
      "St.Jakob in Haus 204\n",
      "St.Jakob/Defereggen 204\n",
      "St.Johann am Walde 96\n",
      "St.Johann im Walde 108\n",
      "St.Johann in Tirol 204\n",
      "St.Leonhard/Pitztal 204\n",
      "St.Sigmund/Sellrain 204\n",
      "St.Ulrich/Pillersee 204\n",
      "St.Veit in Defereggen 204\n",
      "Steinach 12\n",
      "Steinach am Brenner 12\n",
      "Steinach/Brenner 204\n",
      "Telfes im Stubai 204\n",
      "Telfes im Stubaital 24\n",
      "Weissenbach 12\n",
      "Weissenbach am Lech 12\n",
      "Weißenbach am Lech 204\n"
     ]
    }
   ],
   "source": [
    "for city in cities:\n",
    "    print(city, df[df.city == city].shape[0])"
   ]
  },
  {
   "cell_type": "code",
   "execution_count": 11,
   "metadata": {
    "ExecuteTime": {
     "end_time": "2020-02-02T21:52:28.148946Z",
     "start_time": "2020-02-02T21:52:28.100935Z"
    }
   },
   "outputs": [
    {
     "data": {
      "text/plain": [
       "279.0"
      ]
     },
     "execution_count": 11,
     "metadata": {},
     "output_type": "execute_result"
    }
   ],
   "source": [
    "df.shape[0] / 228"
   ]
  },
  {
   "cell_type": "code",
   "execution_count": 12,
   "metadata": {
    "ExecuteTime": {
     "end_time": "2020-02-02T21:52:28.169936Z",
     "start_time": "2020-02-02T21:52:28.155938Z"
    }
   },
   "outputs": [
    {
     "data": {
      "text/plain": [
       "52"
      ]
     },
     "execution_count": 12,
     "metadata": {},
     "output_type": "execute_result"
    }
   ],
   "source": [
    "len(cities)"
   ]
  },
  {
   "cell_type": "code",
   "execution_count": 13,
   "metadata": {
    "ExecuteTime": {
     "end_time": "2020-02-02T21:52:28.258033Z",
     "start_time": "2020-02-02T21:52:28.180945Z"
    }
   },
   "outputs": [],
   "source": [
    "df = df[~df.city.isin(cities)]"
   ]
  },
  {
   "cell_type": "code",
   "execution_count": 14,
   "metadata": {
    "ExecuteTime": {
     "end_time": "2020-02-02T21:52:45.783345Z",
     "start_time": "2020-02-02T21:52:28.273952Z"
    }
   },
   "outputs": [],
   "source": [
    "df = df.pivot_table(\n",
    "    values = 'overnight_stays',\n",
    "    index = ['bezirk', 'city'],\n",
    "    columns = 'date'\n",
    "    )"
   ]
  },
  {
   "cell_type": "code",
   "execution_count": 15,
   "metadata": {
    "ExecuteTime": {
     "end_time": "2020-02-02T21:52:46.027798Z",
     "start_time": "2020-02-02T21:52:45.783345Z"
    }
   },
   "outputs": [
    {
     "data": {
      "text/html": [
       "<div>\n",
       "<style scoped>\n",
       "    .dataframe tbody tr th:only-of-type {\n",
       "        vertical-align: middle;\n",
       "    }\n",
       "\n",
       "    .dataframe tbody tr th {\n",
       "        vertical-align: top;\n",
       "    }\n",
       "\n",
       "    .dataframe thead th {\n",
       "        text-align: right;\n",
       "    }\n",
       "</style>\n",
       "<table border=\"1\" class=\"dataframe\">\n",
       "  <thead>\n",
       "    <tr style=\"text-align: right;\">\n",
       "      <th></th>\n",
       "      <th>date</th>\n",
       "      <th>2000-01-01</th>\n",
       "      <th>2000-02-01</th>\n",
       "      <th>2000-03-01</th>\n",
       "      <th>2000-04-01</th>\n",
       "      <th>2000-05-01</th>\n",
       "      <th>2000-06-01</th>\n",
       "      <th>2000-07-01</th>\n",
       "      <th>2000-08-01</th>\n",
       "      <th>2000-09-01</th>\n",
       "      <th>2000-10-01</th>\n",
       "      <th>...</th>\n",
       "      <th>2018-03-01</th>\n",
       "      <th>2018-04-01</th>\n",
       "      <th>2018-05-01</th>\n",
       "      <th>2018-06-01</th>\n",
       "      <th>2018-07-01</th>\n",
       "      <th>2018-08-01</th>\n",
       "      <th>2018-09-01</th>\n",
       "      <th>2018-10-01</th>\n",
       "      <th>2018-11-01</th>\n",
       "      <th>2018-12-01</th>\n",
       "    </tr>\n",
       "    <tr>\n",
       "      <th>bezirk</th>\n",
       "      <th>city</th>\n",
       "      <th></th>\n",
       "      <th></th>\n",
       "      <th></th>\n",
       "      <th></th>\n",
       "      <th></th>\n",
       "      <th></th>\n",
       "      <th></th>\n",
       "      <th></th>\n",
       "      <th></th>\n",
       "      <th></th>\n",
       "      <th></th>\n",
       "      <th></th>\n",
       "      <th></th>\n",
       "      <th></th>\n",
       "      <th></th>\n",
       "      <th></th>\n",
       "      <th></th>\n",
       "      <th></th>\n",
       "      <th></th>\n",
       "      <th></th>\n",
       "      <th></th>\n",
       "    </tr>\n",
       "  </thead>\n",
       "  <tbody>\n",
       "    <tr>\n",
       "      <th>I</th>\n",
       "      <th>Innsbruck</th>\n",
       "      <td>75874.0</td>\n",
       "      <td>86463.0</td>\n",
       "      <td>85461.0</td>\n",
       "      <td>78124.0</td>\n",
       "      <td>99989.0</td>\n",
       "      <td>124918.0</td>\n",
       "      <td>143894.0</td>\n",
       "      <td>152698.0</td>\n",
       "      <td>123338.0</td>\n",
       "      <td>85619.0</td>\n",
       "      <td>...</td>\n",
       "      <td>124347.0</td>\n",
       "      <td>115726.0</td>\n",
       "      <td>140468.0</td>\n",
       "      <td>152873.0</td>\n",
       "      <td>203611.0</td>\n",
       "      <td>192608.0</td>\n",
       "      <td>156387.0</td>\n",
       "      <td>139187.0</td>\n",
       "      <td>115279.0</td>\n",
       "      <td>148994.0</td>\n",
       "    </tr>\n",
       "    <tr>\n",
       "      <th rowspan=\"4\" valign=\"top\">IL</th>\n",
       "      <th>Absam</th>\n",
       "      <td>1070.0</td>\n",
       "      <td>2381.0</td>\n",
       "      <td>1218.0</td>\n",
       "      <td>2200.0</td>\n",
       "      <td>1398.0</td>\n",
       "      <td>1413.0</td>\n",
       "      <td>2890.0</td>\n",
       "      <td>2581.0</td>\n",
       "      <td>1677.0</td>\n",
       "      <td>1703.0</td>\n",
       "      <td>...</td>\n",
       "      <td>1480.0</td>\n",
       "      <td>1516.0</td>\n",
       "      <td>1621.0</td>\n",
       "      <td>2201.0</td>\n",
       "      <td>4554.0</td>\n",
       "      <td>4219.0</td>\n",
       "      <td>3421.0</td>\n",
       "      <td>1990.0</td>\n",
       "      <td>1574.0</td>\n",
       "      <td>1899.0</td>\n",
       "    </tr>\n",
       "    <tr>\n",
       "      <th>Aldrans</th>\n",
       "      <td>2776.0</td>\n",
       "      <td>3413.0</td>\n",
       "      <td>1756.0</td>\n",
       "      <td>629.0</td>\n",
       "      <td>1218.0</td>\n",
       "      <td>2045.0</td>\n",
       "      <td>2914.0</td>\n",
       "      <td>3660.0</td>\n",
       "      <td>3569.0</td>\n",
       "      <td>1561.0</td>\n",
       "      <td>...</td>\n",
       "      <td>1840.0</td>\n",
       "      <td>867.0</td>\n",
       "      <td>1238.0</td>\n",
       "      <td>1949.0</td>\n",
       "      <td>2179.0</td>\n",
       "      <td>2381.0</td>\n",
       "      <td>1753.0</td>\n",
       "      <td>1110.0</td>\n",
       "      <td>468.0</td>\n",
       "      <td>860.0</td>\n",
       "    </tr>\n",
       "    <tr>\n",
       "      <th>Ampass</th>\n",
       "      <td>238.0</td>\n",
       "      <td>515.0</td>\n",
       "      <td>563.0</td>\n",
       "      <td>516.0</td>\n",
       "      <td>909.0</td>\n",
       "      <td>1458.0</td>\n",
       "      <td>1734.0</td>\n",
       "      <td>2038.0</td>\n",
       "      <td>1190.0</td>\n",
       "      <td>844.0</td>\n",
       "      <td>...</td>\n",
       "      <td>1241.0</td>\n",
       "      <td>1047.0</td>\n",
       "      <td>1603.0</td>\n",
       "      <td>1704.0</td>\n",
       "      <td>2078.0</td>\n",
       "      <td>2214.0</td>\n",
       "      <td>1819.0</td>\n",
       "      <td>1284.0</td>\n",
       "      <td>899.0</td>\n",
       "      <td>1444.0</td>\n",
       "    </tr>\n",
       "    <tr>\n",
       "      <th>Axams</th>\n",
       "      <td>15894.0</td>\n",
       "      <td>17185.0</td>\n",
       "      <td>13605.0</td>\n",
       "      <td>5129.0</td>\n",
       "      <td>1595.0</td>\n",
       "      <td>5789.0</td>\n",
       "      <td>9031.0</td>\n",
       "      <td>12551.0</td>\n",
       "      <td>5442.0</td>\n",
       "      <td>2918.0</td>\n",
       "      <td>...</td>\n",
       "      <td>21091.0</td>\n",
       "      <td>11277.0</td>\n",
       "      <td>13203.0</td>\n",
       "      <td>12251.0</td>\n",
       "      <td>15732.0</td>\n",
       "      <td>15398.0</td>\n",
       "      <td>12702.0</td>\n",
       "      <td>13726.0</td>\n",
       "      <td>3670.0</td>\n",
       "      <td>11875.0</td>\n",
       "    </tr>\n",
       "  </tbody>\n",
       "</table>\n",
       "<p>5 rows × 228 columns</p>\n",
       "</div>"
      ],
      "text/plain": [
       "date              2000-01-01  2000-02-01  2000-03-01  2000-04-01  2000-05-01  \\\n",
       "bezirk city                                                                    \n",
       "I      Innsbruck     75874.0     86463.0     85461.0     78124.0     99989.0   \n",
       "IL     Absam          1070.0      2381.0      1218.0      2200.0      1398.0   \n",
       "       Aldrans        2776.0      3413.0      1756.0       629.0      1218.0   \n",
       "       Ampass          238.0       515.0       563.0       516.0       909.0   \n",
       "       Axams         15894.0     17185.0     13605.0      5129.0      1595.0   \n",
       "\n",
       "date              2000-06-01  2000-07-01  2000-08-01  2000-09-01  2000-10-01  \\\n",
       "bezirk city                                                                    \n",
       "I      Innsbruck    124918.0    143894.0    152698.0    123338.0     85619.0   \n",
       "IL     Absam          1413.0      2890.0      2581.0      1677.0      1703.0   \n",
       "       Aldrans        2045.0      2914.0      3660.0      3569.0      1561.0   \n",
       "       Ampass         1458.0      1734.0      2038.0      1190.0       844.0   \n",
       "       Axams          5789.0      9031.0     12551.0      5442.0      2918.0   \n",
       "\n",
       "date              ...  2018-03-01  2018-04-01  2018-05-01  2018-06-01  \\\n",
       "bezirk city       ...                                                   \n",
       "I      Innsbruck  ...    124347.0    115726.0    140468.0    152873.0   \n",
       "IL     Absam      ...      1480.0      1516.0      1621.0      2201.0   \n",
       "       Aldrans    ...      1840.0       867.0      1238.0      1949.0   \n",
       "       Ampass     ...      1241.0      1047.0      1603.0      1704.0   \n",
       "       Axams      ...     21091.0     11277.0     13203.0     12251.0   \n",
       "\n",
       "date              2018-07-01  2018-08-01  2018-09-01  2018-10-01  2018-11-01  \\\n",
       "bezirk city                                                                    \n",
       "I      Innsbruck    203611.0    192608.0    156387.0    139187.0    115279.0   \n",
       "IL     Absam          4554.0      4219.0      3421.0      1990.0      1574.0   \n",
       "       Aldrans        2179.0      2381.0      1753.0      1110.0       468.0   \n",
       "       Ampass         2078.0      2214.0      1819.0      1284.0       899.0   \n",
       "       Axams         15732.0     15398.0     12702.0     13726.0      3670.0   \n",
       "\n",
       "date              2018-12-01  \n",
       "bezirk city                   \n",
       "I      Innsbruck    148994.0  \n",
       "IL     Absam          1899.0  \n",
       "       Aldrans         860.0  \n",
       "       Ampass         1444.0  \n",
       "       Axams         11875.0  \n",
       "\n",
       "[5 rows x 228 columns]"
      ]
     },
     "execution_count": 15,
     "metadata": {},
     "output_type": "execute_result"
    }
   ],
   "source": [
    "df.head()"
   ]
  },
  {
   "cell_type": "code",
   "execution_count": 19,
   "metadata": {
    "ExecuteTime": {
     "end_time": "2020-02-02T21:55:04.353989Z",
     "start_time": "2020-02-02T21:55:04.209993Z"
    }
   },
   "outputs": [],
   "source": [
    "df.to_csv('data/output.csv', encoding='utf-16')"
   ]
  },
  {
   "cell_type": "code",
   "execution_count": null,
   "metadata": {},
   "outputs": [],
   "source": []
  }
 ],
 "metadata": {
  "kernelspec": {
   "display_name": "Python 3",
   "language": "python",
   "name": "python3"
  },
  "language_info": {
   "codemirror_mode": {
    "name": "ipython",
    "version": 3
   },
   "file_extension": ".py",
   "mimetype": "text/x-python",
   "name": "python",
   "nbconvert_exporter": "python",
   "pygments_lexer": "ipython3",
   "version": "3.7.3"
  }
 },
 "nbformat": 4,
 "nbformat_minor": 2
}
