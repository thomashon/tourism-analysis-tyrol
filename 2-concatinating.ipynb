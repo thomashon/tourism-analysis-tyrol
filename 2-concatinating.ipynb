{
 "cells": [
  {
   "cell_type": "code",
   "execution_count": 2,
   "metadata": {
    "ExecuteTime": {
     "end_time": "2019-10-16T14:17:09.736220Z",
     "start_time": "2019-10-16T14:17:09.731205Z"
    }
   },
   "outputs": [],
   "source": [
    "import pandas as pd\n",
    "import numpy as np\n",
    "import glob"
   ]
  },
  {
   "cell_type": "code",
   "execution_count": 3,
   "metadata": {
    "ExecuteTime": {
     "end_time": "2019-10-16T14:17:42.921543Z",
     "start_time": "2019-10-16T14:17:42.915533Z"
    }
   },
   "outputs": [],
   "source": [
    "paths = glob.glob('data/csv/*')"
   ]
  },
  {
   "cell_type": "code",
   "execution_count": 13,
   "metadata": {
    "ExecuteTime": {
     "end_time": "2019-10-16T14:20:10.303575Z",
     "start_time": "2019-10-16T14:20:10.005455Z"
    }
   },
   "outputs": [],
   "source": [
    "df = pd.concat(map(pd.read_csv, paths))\n",
    "df = df.drop(df.columns[0], axis=1)"
   ]
  },
  {
   "cell_type": "code",
   "execution_count": 21,
   "metadata": {
    "ExecuteTime": {
     "end_time": "2019-10-16T14:24:06.551197Z",
     "start_time": "2019-10-16T14:24:06.508207Z"
    }
   },
   "outputs": [],
   "source": [
    "df.year = df.year.astype('category')\n",
    "df.city = df.city.astype('category')\n",
    "df.month = df.month.astype('category')\n",
    "df.bezirk = df.bezirk.astype('category')\n",
    "df.nr = df.nr.astype('category')"
   ]
  },
  {
   "cell_type": "code",
   "execution_count": 22,
   "metadata": {
    "ExecuteTime": {
     "end_time": "2019-10-16T14:24:14.021947Z",
     "start_time": "2019-10-16T14:24:13.993945Z"
    }
   },
   "outputs": [
    {
     "name": "stdout",
     "output_type": "stream",
     "text": [
      "<class 'pandas.core.frame.DataFrame'>\n",
      "Int64Index: 63612 entries, 0 to 3347\n",
      "Data columns (total 6 columns):\n",
      "year               63612 non-null category\n",
      "city               63612 non-null category\n",
      "month              63612 non-null category\n",
      "overnight_stays    63612 non-null int64\n",
      "bezirk             63612 non-null category\n",
      "nr                 63612 non-null category\n",
      "dtypes: category(5), int64(1)\n",
      "memory usage: 1.4 MB\n"
     ]
    }
   ],
   "source": [
    "df.info()"
   ]
  },
  {
   "cell_type": "code",
   "execution_count": 27,
   "metadata": {
    "ExecuteTime": {
     "end_time": "2019-10-16T14:28:37.063452Z",
     "start_time": "2019-10-16T14:28:37.034456Z"
    }
   },
   "outputs": [
    {
     "data": {
      "text/html": [
       "<div>\n",
       "<style scoped>\n",
       "    .dataframe tbody tr th:only-of-type {\n",
       "        vertical-align: middle;\n",
       "    }\n",
       "\n",
       "    .dataframe tbody tr th {\n",
       "        vertical-align: top;\n",
       "    }\n",
       "\n",
       "    .dataframe thead th {\n",
       "        text-align: right;\n",
       "    }\n",
       "</style>\n",
       "<table border=\"1\" class=\"dataframe\">\n",
       "  <thead>\n",
       "    <tr style=\"text-align: right;\">\n",
       "      <th></th>\n",
       "      <th>year</th>\n",
       "      <th>city</th>\n",
       "      <th>month</th>\n",
       "      <th>overnight_stays</th>\n",
       "      <th>bezirk</th>\n",
       "      <th>nr</th>\n",
       "    </tr>\n",
       "  </thead>\n",
       "  <tbody>\n",
       "    <tr>\n",
       "      <th>600</th>\n",
       "      <td>2012</td>\n",
       "      <td>Mils</td>\n",
       "      <td>1</td>\n",
       "      <td>1648</td>\n",
       "      <td>IL</td>\n",
       "      <td>70329</td>\n",
       "    </tr>\n",
       "    <tr>\n",
       "      <th>601</th>\n",
       "      <td>2012</td>\n",
       "      <td>Mils</td>\n",
       "      <td>2</td>\n",
       "      <td>1770</td>\n",
       "      <td>IL</td>\n",
       "      <td>70329</td>\n",
       "    </tr>\n",
       "    <tr>\n",
       "      <th>602</th>\n",
       "      <td>2012</td>\n",
       "      <td>Mils</td>\n",
       "      <td>3</td>\n",
       "      <td>1526</td>\n",
       "      <td>IL</td>\n",
       "      <td>70329</td>\n",
       "    </tr>\n",
       "    <tr>\n",
       "      <th>603</th>\n",
       "      <td>2012</td>\n",
       "      <td>Mils</td>\n",
       "      <td>4</td>\n",
       "      <td>1575</td>\n",
       "      <td>IL</td>\n",
       "      <td>70329</td>\n",
       "    </tr>\n",
       "    <tr>\n",
       "      <th>604</th>\n",
       "      <td>2012</td>\n",
       "      <td>Mils</td>\n",
       "      <td>5</td>\n",
       "      <td>1905</td>\n",
       "      <td>IL</td>\n",
       "      <td>70329</td>\n",
       "    </tr>\n",
       "    <tr>\n",
       "      <th>605</th>\n",
       "      <td>2012</td>\n",
       "      <td>Mils</td>\n",
       "      <td>6</td>\n",
       "      <td>1879</td>\n",
       "      <td>IL</td>\n",
       "      <td>70329</td>\n",
       "    </tr>\n",
       "    <tr>\n",
       "      <th>606</th>\n",
       "      <td>2012</td>\n",
       "      <td>Mils</td>\n",
       "      <td>7</td>\n",
       "      <td>2695</td>\n",
       "      <td>IL</td>\n",
       "      <td>70329</td>\n",
       "    </tr>\n",
       "    <tr>\n",
       "      <th>607</th>\n",
       "      <td>2012</td>\n",
       "      <td>Mils</td>\n",
       "      <td>8</td>\n",
       "      <td>2393</td>\n",
       "      <td>IL</td>\n",
       "      <td>70329</td>\n",
       "    </tr>\n",
       "    <tr>\n",
       "      <th>608</th>\n",
       "      <td>2012</td>\n",
       "      <td>Mils</td>\n",
       "      <td>9</td>\n",
       "      <td>2516</td>\n",
       "      <td>IL</td>\n",
       "      <td>70329</td>\n",
       "    </tr>\n",
       "    <tr>\n",
       "      <th>609</th>\n",
       "      <td>2012</td>\n",
       "      <td>Mils</td>\n",
       "      <td>10</td>\n",
       "      <td>1873</td>\n",
       "      <td>IL</td>\n",
       "      <td>70329</td>\n",
       "    </tr>\n",
       "    <tr>\n",
       "      <th>610</th>\n",
       "      <td>2012</td>\n",
       "      <td>Mils</td>\n",
       "      <td>11</td>\n",
       "      <td>1827</td>\n",
       "      <td>IL</td>\n",
       "      <td>70329</td>\n",
       "    </tr>\n",
       "    <tr>\n",
       "      <th>611</th>\n",
       "      <td>2012</td>\n",
       "      <td>Mils</td>\n",
       "      <td>12</td>\n",
       "      <td>2009</td>\n",
       "      <td>IL</td>\n",
       "      <td>70329</td>\n",
       "    </tr>\n",
       "  </tbody>\n",
       "</table>\n",
       "</div>"
      ],
      "text/plain": [
       "     year  city month  overnight_stays bezirk     nr\n",
       "600  2012  Mils     1             1648     IL  70329\n",
       "601  2012  Mils     2             1770     IL  70329\n",
       "602  2012  Mils     3             1526     IL  70329\n",
       "603  2012  Mils     4             1575     IL  70329\n",
       "604  2012  Mils     5             1905     IL  70329\n",
       "605  2012  Mils     6             1879     IL  70329\n",
       "606  2012  Mils     7             2695     IL  70329\n",
       "607  2012  Mils     8             2393     IL  70329\n",
       "608  2012  Mils     9             2516     IL  70329\n",
       "609  2012  Mils    10             1873     IL  70329\n",
       "610  2012  Mils    11             1827     IL  70329\n",
       "611  2012  Mils    12             2009     IL  70329"
      ]
     },
     "execution_count": 27,
     "metadata": {},
     "output_type": "execute_result"
    }
   ],
   "source": [
    "df[(df.year==2012) & (df.city=='Mils')]"
   ]
  },
  {
   "cell_type": "code",
   "execution_count": 28,
   "metadata": {
    "ExecuteTime": {
     "end_time": "2019-10-16T14:28:59.968782Z",
     "start_time": "2019-10-16T14:28:59.568426Z"
    }
   },
   "outputs": [],
   "source": [
    "df.to_csv('data/total.csv')"
   ]
  },
  {
   "cell_type": "code",
   "execution_count": null,
   "metadata": {},
   "outputs": [],
   "source": []
  }
 ],
 "metadata": {
  "kernelspec": {
   "display_name": "Python 3",
   "language": "python",
   "name": "python3"
  },
  "language_info": {
   "codemirror_mode": {
    "name": "ipython",
    "version": 3
   },
   "file_extension": ".py",
   "mimetype": "text/x-python",
   "name": "python",
   "nbconvert_exporter": "python",
   "pygments_lexer": "ipython3",
   "version": "3.7.3"
  }
 },
 "nbformat": 4,
 "nbformat_minor": 2
}
