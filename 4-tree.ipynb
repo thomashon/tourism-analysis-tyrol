{
 "cells": [
  {
   "cell_type": "code",
   "execution_count": 1,
   "metadata": {
    "ExecuteTime": {
     "end_time": "2020-01-25T10:21:22.271952Z",
     "start_time": "2020-01-25T10:21:17.666961Z"
    }
   },
   "outputs": [],
   "source": [
    "import pandas as pd"
   ]
  },
  {
   "cell_type": "code",
   "execution_count": 4,
   "metadata": {
    "ExecuteTime": {
     "end_time": "2020-01-25T10:26:07.635337Z",
     "start_time": "2020-01-25T10:26:07.482347Z"
    }
   },
   "outputs": [],
   "source": [
    "df = pd.read_csv('data/total.csv')\n",
    "df.drop('Unnamed: 0', axis=1, inplace=True)"
   ]
  },
  {
   "cell_type": "code",
   "execution_count": 5,
   "metadata": {
    "ExecuteTime": {
     "end_time": "2020-01-25T10:26:08.126347Z",
     "start_time": "2020-01-25T10:26:08.098347Z"
    }
   },
   "outputs": [
    {
     "data": {
      "text/html": [
       "<div>\n",
       "<style scoped>\n",
       "    .dataframe tbody tr th:only-of-type {\n",
       "        vertical-align: middle;\n",
       "    }\n",
       "\n",
       "    .dataframe tbody tr th {\n",
       "        vertical-align: top;\n",
       "    }\n",
       "\n",
       "    .dataframe thead th {\n",
       "        text-align: right;\n",
       "    }\n",
       "</style>\n",
       "<table border=\"1\" class=\"dataframe\">\n",
       "  <thead>\n",
       "    <tr style=\"text-align: right;\">\n",
       "      <th></th>\n",
       "      <th>year</th>\n",
       "      <th>city</th>\n",
       "      <th>month</th>\n",
       "      <th>overnight_stays</th>\n",
       "      <th>bezirk</th>\n",
       "      <th>nr</th>\n",
       "    </tr>\n",
       "  </thead>\n",
       "  <tbody>\n",
       "    <tr>\n",
       "      <th>0</th>\n",
       "      <td>2000</td>\n",
       "      <td>Innsbruck</td>\n",
       "      <td>1</td>\n",
       "      <td>75874</td>\n",
       "      <td>I</td>\n",
       "      <td>101</td>\n",
       "    </tr>\n",
       "    <tr>\n",
       "      <th>1</th>\n",
       "      <td>2000</td>\n",
       "      <td>Innsbruck</td>\n",
       "      <td>2</td>\n",
       "      <td>86463</td>\n",
       "      <td>I</td>\n",
       "      <td>101</td>\n",
       "    </tr>\n",
       "    <tr>\n",
       "      <th>2</th>\n",
       "      <td>2000</td>\n",
       "      <td>Innsbruck</td>\n",
       "      <td>3</td>\n",
       "      <td>85461</td>\n",
       "      <td>I</td>\n",
       "      <td>101</td>\n",
       "    </tr>\n",
       "    <tr>\n",
       "      <th>3</th>\n",
       "      <td>2000</td>\n",
       "      <td>Innsbruck</td>\n",
       "      <td>4</td>\n",
       "      <td>78124</td>\n",
       "      <td>I</td>\n",
       "      <td>101</td>\n",
       "    </tr>\n",
       "    <tr>\n",
       "      <th>4</th>\n",
       "      <td>2000</td>\n",
       "      <td>Innsbruck</td>\n",
       "      <td>5</td>\n",
       "      <td>99989</td>\n",
       "      <td>I</td>\n",
       "      <td>101</td>\n",
       "    </tr>\n",
       "  </tbody>\n",
       "</table>\n",
       "</div>"
      ],
      "text/plain": [
       "   year       city  month  overnight_stays bezirk   nr\n",
       "0  2000  Innsbruck      1            75874      I  101\n",
       "1  2000  Innsbruck      2            86463      I  101\n",
       "2  2000  Innsbruck      3            85461      I  101\n",
       "3  2000  Innsbruck      4            78124      I  101\n",
       "4  2000  Innsbruck      5            99989      I  101"
      ]
     },
     "execution_count": 5,
     "metadata": {},
     "output_type": "execute_result"
    }
   ],
   "source": [
    "df.head()"
   ]
  },
  {
   "cell_type": "code",
   "execution_count": 11,
   "metadata": {
    "ExecuteTime": {
     "end_time": "2020-01-25T10:29:19.554898Z",
     "start_time": "2020-01-25T10:29:19.543885Z"
    }
   },
   "outputs": [],
   "source": [
    "X = df.drop('overnight_stays', axis=1)\n",
    "y = df.overnight_stays"
   ]
  },
  {
   "cell_type": "code",
   "execution_count": 12,
   "metadata": {
    "ExecuteTime": {
     "end_time": "2020-01-25T10:29:21.296746Z",
     "start_time": "2020-01-25T10:29:21.287744Z"
    }
   },
   "outputs": [],
   "source": [
    "from sklearn.model_selection import train_test_split"
   ]
  },
  {
   "cell_type": "code",
   "execution_count": null,
   "metadata": {},
   "outputs": [],
   "source": []
  },
  {
   "cell_type": "code",
   "execution_count": 7,
   "metadata": {
    "ExecuteTime": {
     "end_time": "2020-01-25T10:27:37.494133Z",
     "start_time": "2020-01-25T10:27:37.489123Z"
    }
   },
   "outputs": [],
   "source": [
    "from sklearn.tree import DecisionTreeRegressor"
   ]
  },
  {
   "cell_type": "code",
   "execution_count": 8,
   "metadata": {
    "ExecuteTime": {
     "end_time": "2020-01-25T10:27:47.230283Z",
     "start_time": "2020-01-25T10:27:47.225272Z"
    }
   },
   "outputs": [],
   "source": [
    "tree = DecisionTreeRegressor()"
   ]
  },
  {
   "cell_type": "code",
   "execution_count": null,
   "metadata": {},
   "outputs": [],
   "source": []
  }
 ],
 "metadata": {
  "kernelspec": {
   "display_name": "Python 3.7.0 64-bit",
   "language": "python",
   "name": "python37064bit56551173544b4219a658cc965b42e961"
  },
  "language_info": {
   "codemirror_mode": {
    "name": "ipython",
    "version": 3
   },
   "file_extension": ".py",
   "mimetype": "text/x-python",
   "name": "python",
   "nbconvert_exporter": "python",
   "pygments_lexer": "ipython3",
   "version": "3.7.0"
  }
 },
 "nbformat": 4,
 "nbformat_minor": 2
}
